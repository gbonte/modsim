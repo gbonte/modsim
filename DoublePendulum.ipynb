{
 "cells": [
  {
   "cell_type": "code",
   "execution_count": 5,
   "id": "ab1e8c68-9a69-43fd-818e-c483474d9225",
   "metadata": {},
   "outputs": [
    {
     "name": "stdout",
     "output_type": "stream",
     "text": [
      "Animation saved as double_pendulum.mp4\n"
     ]
    },
    {
     "data": {
      "image/png": "[encoded data removed]",
      "text/plain": [
       "<Figure size 640x480 with 1 Axes>"
      ]
     },
     "metadata": {},
     "output_type": "display_data"
    }
   ],
   "source": [
    "import numpy as np\n",
    "import matplotlib.pyplot as plt\n",
    "import matplotlib.animation as animation\n",
    "from scipy.integrate import solve_ivp\n",
    "\n",
    "# Parameters\n",
    "g = 9.81  # gravity\n",
    "L1, L2 = 1.0, 1.0  # lengths of pendulums\n",
    "m1, m2 = 1.0, 1.0  # masses\n",
    "\n",
    "# Equations of motion\n",
    "def deriv(t, y):\n",
    "    θ1, z1, θ2, z2 = y\n",
    "    c, s = np.cos(θ1 - θ2), np.sin(θ1 - θ2)\n",
    "\n",
    "    θ1_dot = z1\n",
    "    θ2_dot = z2\n",
    "\n",
    "    z1_dot = ((m2 * g * np.sin(θ2) * c - m2 * s * (L1 * z1**2 * c + L2 * z2**2) -\n",
    "               (m1 + m2) * g * np.sin(θ1)) /\n",
    "              (L1 * (m1 + m2 * s**2)))\n",
    "\n",
    "    z2_dot = (((m1 + m2) * (L1 * z1**2 * s - g * np.sin(θ2) + g * np.sin(θ1) * c) +\n",
    "               m2 * L2 * z2**2 * s * c) /\n",
    "              (L2 * (m1 + m2 * s**2)))\n",
    "\n",
    "    return [θ1_dot, z1_dot, θ2_dot, z2_dot]\n",
    "\n",
    "# Initial conditions: [θ1, θ1_dot, θ2, θ2_dot]\n",
    "y0 = [np.pi , 0, np.pi / 2, 0]\n",
    "t_span = (0, 50)\n",
    "t_eval = np.linspace(*t_span, 1000)\n",
    "\n",
    "# Solve ODE\n",
    "sol = solve_ivp(deriv, t_span, y0, t_eval=t_eval)\n",
    "\n",
    "# Extract positions\n",
    "θ1, θ2 = sol.y[0], sol.y[2]\n",
    "x1 = L1 * np.sin(θ1)\n",
    "y1 = -L1 * np.cos(θ1)\n",
    "x2 = x1 + L2 * np.sin(θ2)\n",
    "y2 = y1 - L2 * np.cos(θ2)\n",
    "\n",
    "# Animation\n",
    "fig, ax = plt.subplots()\n",
    "ax.set_xlim(-2, 2)\n",
    "ax.set_ylim(-2, 2)\n",
    "line, = ax.plot([], [], 'o-', lw=2)\n",
    "\n",
    "def init():\n",
    "    line.set_data([], [])\n",
    "    return line,\n",
    "\n",
    "def update(i):\n",
    "    thisx = [0, x1[i], x2[i]]\n",
    "    thisy = [0, y1[i], y2[i]]\n",
    "    line.set_data(thisx, thisy)\n",
    "    return line,\n",
    "\n",
    "ani = animation.FuncAnimation(fig, update, frames=len(t_eval),\n",
    "                              init_func=init, blit=True, interval=20)\n",
    "\n",
    "# Save animation as MP4\n",
    "ani.save(\"double_pendulum2.mp4\", writer=\"ffmpeg\")\n",
    "\n",
    "print(\"Animation saved as double_pendulum.mp4\")\n",
    "\n",
    "\n",
    "\n"
   ]
  },
  {
   "cell_type": "code",
   "execution_count": null,
   "id": "364235e3-dbea-4aa4-a477-5fe2b82354f3",
   "metadata": {},
   "outputs": [],
   "source": []
  }
 ],
 "metadata": {
  "kernelspec": {
   "display_name": "Python 3 (ipykernel)",
   "language": "python",
   "name": "python3"
  },
  "language_info": {
   "codemirror_mode": {
    "name": "ipython",
    "version": 3
   },
   "file_extension": ".py",
   "mimetype": "text/x-python",
   "name": "python",
   "nbconvert_exporter": "python",
   "pygments_lexer": "ipython3",
   "version": "3.12.8"
  }
 },
 "nbformat": 4,
 "nbformat_minor": 5
}
